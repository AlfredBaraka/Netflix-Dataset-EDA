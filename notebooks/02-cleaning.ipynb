{
 "cells": [
  {
   "cell_type": "code",
   "execution_count": 75,
   "id": "c37477ae-c088-4716-8d3c-d2b8c17cbc21",
   "metadata": {},
   "outputs": [],
   "source": [
    "# import important libraries\n",
    "import pandas as pd\n",
    "from warnings import filterwarnings\n",
    "filterwarnings(action='ignore')"
   ]
  },
  {
   "cell_type": "code",
   "execution_count": 76,
   "id": "99dce093-6c6c-4d03-9e87-91339bc13e6d",
   "metadata": {},
   "outputs": [],
   "source": [
    "# Load data from data/processed data\n",
    "df = pd.read_csv('../data/processed/loaded_data.csv')"
   ]
  },
  {
   "cell_type": "code",
   "execution_count": 77,
   "id": "3463d5b7-1d1c-4178-ae3f-fe4945dc51ba",
   "metadata": {},
   "outputs": [
    {
     "name": "stdout",
     "output_type": "stream",
     "text": [
      "The dataset contain 8807 data\n"
     ]
    }
   ],
   "source": [
    "# Find number of row in dataframe\n",
    "print(f\"The dataset contain {len(df)} data\")"
   ]
  },
  {
   "cell_type": "code",
   "execution_count": 78,
   "id": "1c46209e-e7b1-4734-9b6c-2a8b66eca2c3",
   "metadata": {},
   "outputs": [
    {
     "data": {
      "text/plain": [
       "Unnamed: 0         0\n",
       "show_id            0\n",
       "type               0\n",
       "title              0\n",
       "director        2634\n",
       "cast             825\n",
       "country          831\n",
       "date_added        10\n",
       "release_year       0\n",
       "rating             4\n",
       "duration           3\n",
       "listed_in          0\n",
       "description        0\n",
       "dtype: int64"
      ]
     },
     "execution_count": 78,
     "metadata": {},
     "output_type": "execute_result"
    }
   ],
   "source": [
    "# find null in dataset\n",
    "df.isnull().sum()"
   ]
  },
  {
   "cell_type": "code",
   "execution_count": 79,
   "id": "1f4ccf60-df6f-4830-b0c6-ad608ef09774",
   "metadata": {},
   "outputs": [],
   "source": [
    "# Impute missing director, cast, and country with 'Unknown'\n",
    "df['director'].fillna('Unknown', inplace=True)\n",
    "df['cast'].fillna('Unknown', inplace=True)\n",
    "df['country'].fillna('Not Specified', inplace=True)\n",
    "\n",
    "# Impute missing 'rating' with the mode (most frequent value)\n",
    "df['rating'].fillna(df['rating'].mode()[0], inplace=True)\n",
    "\n",
    "# Impute missing 'duration' with the median\n",
    "df['duration'].fillna(df['duration'].mode()[0], inplace=True)\n",
    "\n",
    "# Impute missing 'date_added' with a placeholder (e.g., 'Not Added')\n",
    "df['date_added'].fillna(df['date_added'].ffill(), inplace=True)\n"
   ]
  },
  {
   "cell_type": "code",
   "execution_count": 80,
   "id": "587a7dac-6b74-4ba5-ab06-cbdfa5be7498",
   "metadata": {},
   "outputs": [
    {
     "data": {
      "text/plain": [
       "Unnamed: 0      0\n",
       "show_id         0\n",
       "type            0\n",
       "title           0\n",
       "director        0\n",
       "cast            0\n",
       "country         0\n",
       "date_added      0\n",
       "release_year    0\n",
       "rating          0\n",
       "duration        0\n",
       "listed_in       0\n",
       "description     0\n",
       "dtype: int64"
      ]
     },
     "execution_count": 80,
     "metadata": {},
     "output_type": "execute_result"
    }
   ],
   "source": [
    "# find null in dataset\n",
    "df.isnull().sum()"
   ]
  },
  {
   "cell_type": "code",
   "execution_count": 81,
   "id": "1c82d13e-49d3-4edc-82cd-96056a30d507",
   "metadata": {},
   "outputs": [],
   "source": [
    "# Drop duplicates in show_id if there is\n",
    "df.drop_duplicates(subset=('show_id'), inplace=True)"
   ]
  },
  {
   "cell_type": "code",
   "execution_count": 82,
   "id": "279829b6-48d0-4cb8-a889-8c87c5428097",
   "metadata": {},
   "outputs": [],
   "source": [
    "# change date_added and year released column to datetime\n",
    "df['date_added'] = pd.to_datetime(df['date_added'], errors='coerce')\n",
    "df['release_year'] = pd.to_datetime(df['release_year'], errors='coerce')"
   ]
  },
  {
   "cell_type": "code",
   "execution_count": 83,
   "id": "f52635e1-cb21-4c64-800e-3e40bca31f36",
   "metadata": {},
   "outputs": [],
   "source": [
    "# drop unnamed column because has no use and its duplicate of index\n",
    "df.drop(columns=(['Unnamed: 0']), inplace=True)"
   ]
  },
  {
   "cell_type": "code",
   "execution_count": 84,
   "id": "9ebb2ee4-e5fd-4a71-b627-83e76d7a7ef5",
   "metadata": {},
   "outputs": [],
   "source": [
    "# Handling categorical data\n",
    "\n",
    "# Remove rows where the 'rating' contains 'min' (duration entries)\n",
    "df = df[~df['rating'].str.contains('min', na=False)]\n",
    "\n"
   ]
  },
  {
   "cell_type": "code",
   "execution_count": 85,
   "id": "9af1106a-7cf8-46f3-bbaf-f53a3586d46a",
   "metadata": {},
   "outputs": [
    {
     "data": {
      "text/plain": [
       "array(['PG-13', 'TV-MA', 'PG', 'TV-14', 'TV-PG', 'TV-Y', 'TV-Y7', 'R',\n",
       "       'TV-G', 'G', 'NC-17', 'NR', 'TV-Y7-FV', 'UR'], dtype=object)"
      ]
     },
     "execution_count": 85,
     "metadata": {},
     "output_type": "execute_result"
    }
   ],
   "source": [
    "df['rating'].unique()"
   ]
  },
  {
   "cell_type": "code",
   "execution_count": 86,
   "id": "f07d50d3-d139-4452-81b5-a2580ff9e0ea",
   "metadata": {},
   "outputs": [],
   "source": [
    "# Since movie and tv show have different duration we divide df then"
   ]
  },
  {
   "cell_type": "code",
   "execution_count": 87,
   "id": "c46d70d7-5e27-4b3b-86cf-b48019f352c3",
   "metadata": {},
   "outputs": [],
   "source": [
    "df['cast'] = df['cast'].fillna('Unknown').str.split(',').apply(lambda x: [i.strip() for i in x])\n",
    "df['director'] = df['director'].fillna('Unknown').str.split(',').apply(lambda x: [i.strip() for i in x])\n"
   ]
  },
  {
   "cell_type": "code",
   "execution_count": 91,
   "id": "f5ca1b96-2013-4205-8172-59adca73f32a",
   "metadata": {},
   "outputs": [
    {
     "data": {
      "text/html": [
       "<div>\n",
       "<style scoped>\n",
       "    .dataframe tbody tr th:only-of-type {\n",
       "        vertical-align: middle;\n",
       "    }\n",
       "\n",
       "    .dataframe tbody tr th {\n",
       "        vertical-align: top;\n",
       "    }\n",
       "\n",
       "    .dataframe thead th {\n",
       "        text-align: right;\n",
       "    }\n",
       "</style>\n",
       "<table border=\"1\" class=\"dataframe\">\n",
       "  <thead>\n",
       "    <tr style=\"text-align: right;\">\n",
       "      <th></th>\n",
       "      <th>type</th>\n",
       "      <th>title</th>\n",
       "      <th>director</th>\n",
       "      <th>cast</th>\n",
       "      <th>country</th>\n",
       "      <th>date_added</th>\n",
       "      <th>release_year</th>\n",
       "      <th>rating</th>\n",
       "      <th>duration</th>\n",
       "      <th>listed_in</th>\n",
       "      <th>description</th>\n",
       "    </tr>\n",
       "    <tr>\n",
       "      <th>show_id</th>\n",
       "      <th></th>\n",
       "      <th></th>\n",
       "      <th></th>\n",
       "      <th></th>\n",
       "      <th></th>\n",
       "      <th></th>\n",
       "      <th></th>\n",
       "      <th></th>\n",
       "      <th></th>\n",
       "      <th></th>\n",
       "      <th></th>\n",
       "    </tr>\n",
       "  </thead>\n",
       "  <tbody>\n",
       "    <tr>\n",
       "      <th>s1</th>\n",
       "      <td>Movie</td>\n",
       "      <td>Dick Johnson Is Dead</td>\n",
       "      <td>[Kirsten Johnson]</td>\n",
       "      <td>[Unknown]</td>\n",
       "      <td>United States</td>\n",
       "      <td>2021-09-25</td>\n",
       "      <td>1970-01-01 00:00:00.000002020</td>\n",
       "      <td>PG-13</td>\n",
       "      <td>90 min</td>\n",
       "      <td>Documentaries</td>\n",
       "      <td>As her father nears the end of his life, filmm...</td>\n",
       "    </tr>\n",
       "    <tr>\n",
       "      <th>s2</th>\n",
       "      <td>TV Show</td>\n",
       "      <td>Blood &amp; Water</td>\n",
       "      <td>[Unknown]</td>\n",
       "      <td>[Ama Qamata, Khosi Ngema, Gail Mabalane, Thaba...</td>\n",
       "      <td>South Africa</td>\n",
       "      <td>2021-09-24</td>\n",
       "      <td>1970-01-01 00:00:00.000002021</td>\n",
       "      <td>TV-MA</td>\n",
       "      <td>2 Seasons</td>\n",
       "      <td>International TV Shows, TV Dramas, TV Mysteries</td>\n",
       "      <td>After crossing paths at a party, a Cape Town t...</td>\n",
       "    </tr>\n",
       "    <tr>\n",
       "      <th>s3</th>\n",
       "      <td>TV Show</td>\n",
       "      <td>Ganglands</td>\n",
       "      <td>[Julien Leclercq]</td>\n",
       "      <td>[Sami Bouajila, Tracy Gotoas, Samuel Jouy, Nab...</td>\n",
       "      <td>Not Specified</td>\n",
       "      <td>2021-09-24</td>\n",
       "      <td>1970-01-01 00:00:00.000002021</td>\n",
       "      <td>TV-MA</td>\n",
       "      <td>1 Season</td>\n",
       "      <td>Crime TV Shows, International TV Shows, TV Act...</td>\n",
       "      <td>To protect his family from a powerful drug lor...</td>\n",
       "    </tr>\n",
       "    <tr>\n",
       "      <th>s4</th>\n",
       "      <td>TV Show</td>\n",
       "      <td>Jailbirds New Orleans</td>\n",
       "      <td>[Unknown]</td>\n",
       "      <td>[Unknown]</td>\n",
       "      <td>Not Specified</td>\n",
       "      <td>2021-09-24</td>\n",
       "      <td>1970-01-01 00:00:00.000002021</td>\n",
       "      <td>TV-MA</td>\n",
       "      <td>1 Season</td>\n",
       "      <td>Docuseries, Reality TV</td>\n",
       "      <td>Feuds, flirtations and toilet talk go down amo...</td>\n",
       "    </tr>\n",
       "    <tr>\n",
       "      <th>s5</th>\n",
       "      <td>TV Show</td>\n",
       "      <td>Kota Factory</td>\n",
       "      <td>[Unknown]</td>\n",
       "      <td>[Mayur More, Jitendra Kumar, Ranjan Raj, Alam ...</td>\n",
       "      <td>India</td>\n",
       "      <td>2021-09-24</td>\n",
       "      <td>1970-01-01 00:00:00.000002021</td>\n",
       "      <td>TV-MA</td>\n",
       "      <td>2 Seasons</td>\n",
       "      <td>International TV Shows, Romantic TV Shows, TV ...</td>\n",
       "      <td>In a city of coaching centers known to train I...</td>\n",
       "    </tr>\n",
       "  </tbody>\n",
       "</table>\n",
       "</div>"
      ],
      "text/plain": [
       "            type                  title           director  \\\n",
       "show_id                                                      \n",
       "s1         Movie   Dick Johnson Is Dead  [Kirsten Johnson]   \n",
       "s2       TV Show          Blood & Water          [Unknown]   \n",
       "s3       TV Show              Ganglands  [Julien Leclercq]   \n",
       "s4       TV Show  Jailbirds New Orleans          [Unknown]   \n",
       "s5       TV Show           Kota Factory          [Unknown]   \n",
       "\n",
       "                                                      cast        country  \\\n",
       "show_id                                                                     \n",
       "s1                                               [Unknown]  United States   \n",
       "s2       [Ama Qamata, Khosi Ngema, Gail Mabalane, Thaba...   South Africa   \n",
       "s3       [Sami Bouajila, Tracy Gotoas, Samuel Jouy, Nab...  Not Specified   \n",
       "s4                                               [Unknown]  Not Specified   \n",
       "s5       [Mayur More, Jitendra Kumar, Ranjan Raj, Alam ...          India   \n",
       "\n",
       "        date_added                  release_year rating   duration  \\\n",
       "show_id                                                              \n",
       "s1      2021-09-25 1970-01-01 00:00:00.000002020  PG-13     90 min   \n",
       "s2      2021-09-24 1970-01-01 00:00:00.000002021  TV-MA  2 Seasons   \n",
       "s3      2021-09-24 1970-01-01 00:00:00.000002021  TV-MA   1 Season   \n",
       "s4      2021-09-24 1970-01-01 00:00:00.000002021  TV-MA   1 Season   \n",
       "s5      2021-09-24 1970-01-01 00:00:00.000002021  TV-MA  2 Seasons   \n",
       "\n",
       "                                                 listed_in  \\\n",
       "show_id                                                      \n",
       "s1                                           Documentaries   \n",
       "s2         International TV Shows, TV Dramas, TV Mysteries   \n",
       "s3       Crime TV Shows, International TV Shows, TV Act...   \n",
       "s4                                  Docuseries, Reality TV   \n",
       "s5       International TV Shows, Romantic TV Shows, TV ...   \n",
       "\n",
       "                                               description  \n",
       "show_id                                                     \n",
       "s1       As her father nears the end of his life, filmm...  \n",
       "s2       After crossing paths at a party, a Cape Town t...  \n",
       "s3       To protect his family from a powerful drug lor...  \n",
       "s4       Feuds, flirtations and toilet talk go down amo...  \n",
       "s5       In a city of coaching centers known to train I...  "
      ]
     },
     "execution_count": 91,
     "metadata": {},
     "output_type": "execute_result"
    }
   ],
   "source": [
    "# Set 'show_id' as the index of the DataFrame\n",
    "df.set_index('show_id', inplace=True)\n",
    "\n",
    "df.head()"
   ]
  },
  {
   "cell_type": "code",
   "execution_count": 94,
   "id": "f788f1c6-a660-4f61-ba13-b2ef613b1ed8",
   "metadata": {},
   "outputs": [
    {
     "name": "stdout",
     "output_type": "stream",
     "text": [
      "The length of movie_df is 6128 and length of show_df is 2676\n"
     ]
    }
   ],
   "source": [
    "movie_df = df[df['type'] == 'Movie'].drop(columns=(['type']))\n",
    "show_df = df[df['type'] == 'TV Show'].drop(columns=(['type']))\n",
    "print(f\"The length of movie_df is {len(movie_df)} and length of show_df is {len(show_df)}\")"
   ]
  },
  {
   "cell_type": "code",
   "execution_count": 95,
   "id": "daac7dcd-f473-460d-89ab-eb694b8ef94b",
   "metadata": {},
   "outputs": [],
   "source": [
    "# saving processed dataset\n",
    "df.to_csv('../data/processed/full_cleaned.csv')\n",
    "movie_df.to_csv('../data/processed/movie_cleaned.csv')\n",
    "show_df.to_csv('../data/processed/show_cleaned.csv')"
   ]
  },
  {
   "cell_type": "code",
   "execution_count": null,
   "id": "982c2003-0355-4a56-ba00-92cfe2eff310",
   "metadata": {},
   "outputs": [],
   "source": []
  }
 ],
 "metadata": {
  "kernelspec": {
   "display_name": "Python 3 (ipykernel)",
   "language": "python",
   "name": "python3"
  },
  "language_info": {
   "codemirror_mode": {
    "name": "ipython",
    "version": 3
   },
   "file_extension": ".py",
   "mimetype": "text/x-python",
   "name": "python",
   "nbconvert_exporter": "python",
   "pygments_lexer": "ipython3",
   "version": "3.12.3"
  }
 },
 "nbformat": 4,
 "nbformat_minor": 5
}
